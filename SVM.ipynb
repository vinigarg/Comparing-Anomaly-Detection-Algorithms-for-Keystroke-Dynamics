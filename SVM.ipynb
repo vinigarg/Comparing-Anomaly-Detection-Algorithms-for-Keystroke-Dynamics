{
 "cells": [
  {
   "cell_type": "code",
   "execution_count": 1,
   "metadata": {
    "collapsed": true
   },
   "outputs": [],
   "source": [
    "import csv,sys\n",
    "import pandas as pd\n",
    "import numpy as np\n",
    "from sklearn.svm import OneClassSVM\n",
    "from sklearn.metrics import roc_curve\n",
    "data=[]"
   ]
  },
  {
   "cell_type": "code",
   "execution_count": 2,
   "metadata": {
    "collapsed": false
   },
   "outputs": [],
   "source": [
    "def Calc_equal_err_rate(realUser_scores,fakeUser_scores,labels):\n",
    "    \n",
    "#     print (\"Calculating equal error rate for subject::\", subject)\n",
    "    \n",
    "    # fpr = ( array ) Increasing false positive rates such that element i is the false positive rate of predictions with score >= thresholds[i].\n",
    "    # tpr = ( array ) Increasing true positive rates such that element i is the true positive rate of predictions with score >= thresholds[i].\n",
    "    # thresholds = ( array ) Decreasing thresholds on the decision function used to compute fpr and tpr. \n",
    "    fpr, tpr, thresholds = roc_curve(labels, realUser_scores + fakeUser_scores)\n",
    "   \n",
    "    # The hit rate is the frequency with which impostors are detected (i.e. tpr = 1 − miss rate)\n",
    "    # distance between false and missed alarm rates\n",
    "    all_dist = (1 - tpr) - fpr\n",
    "    \n",
    "    # index where min and max value in dists array\n",
    "    idx1 = np.argmin(all_dist[all_dist >=0 ])\n",
    "    idx2 = np.argmax(all_dist[all_dist < 0])\n",
    "    \n",
    "     # equal_error_rate calculation\n",
    "    false_alarm_rates = fpr #(false positive rate) \n",
    "    miss_rate = (1 - tpr)\n",
    "    a = miss_rate[idx1]\n",
    "    b = false_alarm_rates[idx1]\n",
    "    x_ptr = [a, b]\n",
    "    \n",
    "    a = miss_rate[idx2]\n",
    "    b = false_alarm_rates[idx2]\n",
    "    y_ptr = [a, b]\n",
    "    \n",
    "    num =  x_ptr[0] -x_ptr[1]\n",
    "    denom = y_ptr[1] - x_ptr[1] - y_ptr[0] + x_ptr[0]\n",
    "    m = num  / denom\n",
    "   \n",
    "    # using line equation \n",
    "    equal_err_rate = x_ptr[0] + m * ( y_ptr[0] - x_ptr[0] )\n",
    "#     print (round(equal_err_rate,4))\n",
    "    \n",
    "    return equal_err_rate\n",
    "    \n",
    "    "
   ]
  },
  {
   "cell_type": "code",
   "execution_count": 3,
   "metadata": {
    "collapsed": false
   },
   "outputs": [],
   "source": [
    "def SVM(person):\n",
    "    # Consider current subject as real and rest as fake\n",
    "    realUser_data = data.loc[data.subject == person, \"H.period\":\"H.Return\"]\n",
    "    \n",
    "    if (len(realUser_data) == 0):\n",
    "        print (\"No data found for the given user\")\n",
    "        return 0\n",
    "    \n",
    "    real_train = np.array((realUser_data[:200]).values)\n",
    "    \n",
    "    # True test set (200 records)\n",
    "    real_test = np.array((realUser_data[200:]).values)\n",
    "\n",
    "    fakeUser_data = data.loc[data.subject != person, :]\n",
    "    \n",
    "    # False set (250 records, 5 per fake user, 50 fake users in all)\n",
    "    fake_test = np.array((fakeUser_data.groupby(\"subject\").head(5).loc[:, \"H.period\":\"H.Return\"]).values)\n",
    "\n",
    "    clf = OneClassSVM(kernel='rbf',gamma=26)\n",
    "    clf.fit(real_train)\n",
    "    \n",
    "    realUser_scores = []                         # real user score\n",
    "    fakeUser_scores = []                         # imposter user score\n",
    "    \n",
    "    # Calculate score for real user test data\n",
    "    realUser_scores =list( -clf.decision_function(real_test))\n",
    "    \n",
    "    # Calculate score for fake user test data\n",
    "    fakeUser_scores = list(-clf.decision_function(fake_test))\n",
    "    \n",
    "    # true label\n",
    "    labels = [0]*len(realUser_scores) + [1]*len(fakeUser_scores)\n",
    "\n",
    "    Equal_err_rate = Calc_equal_err_rate(realUser_scores,fakeUser_scores,labels)\n",
    "    \n",
    "    return Equal_err_rate\n"
   ]
  },
  {
   "cell_type": "code",
   "execution_count": 4,
   "metadata": {
    "collapsed": false
   },
   "outputs": [],
   "source": [
    "\n",
    "def main():\n",
    "    global data\n",
    "    data = pd.read_csv(\"DSL-StrongPasswordData.csv\")\n",
    "    \n",
    "    # find all unique users\n",
    "    subjects = data[\"subject\"].unique()\n",
    "    print (\"Number of unique users:: \",len(subjects))\n",
    "    \n",
    "    header = [c for c in data]\n",
    "    print (\"Dataset contains fields : \")\n",
    "    for h in header :\n",
    "        print (h, end=', ')\n",
    "    print ()\n",
    "    equal_err_rate =[]\n",
    "    \n",
    "    for person in subjects:\n",
    "        equal_err_rate.append(SVM(person))\n",
    "    \n",
    "    Mean = np.mean(equal_err_rate)\n",
    "    StdDev = np.std(equal_err_rate)\n",
    "    print (\"\\nMean:: \", Mean, \"StdDev :: \", StdDev)"
   ]
  },
  {
   "cell_type": "code",
   "execution_count": 5,
   "metadata": {
    "collapsed": false
   },
   "outputs": [
    {
     "name": "stdout",
     "output_type": "stream",
     "text": [
      "Number of unique users::  51\n",
      "Dataset contains fields : \n",
      "subject, sessionIndex, rep, H.period, DD.period.t, UD.period.t, H.t, DD.t.i, UD.t.i, H.i, DD.i.e, UD.i.e, H.e, DD.e.five, UD.e.five, H.five, DD.five.Shift.r, UD.five.Shift.r, H.Shift.r, DD.Shift.r.o, UD.Shift.r.o, H.o, DD.o.a, UD.o.a, H.a, DD.a.n, UD.a.n, H.n, DD.n.l, UD.n.l, H.l, DD.l.Return, UD.l.Return, H.Return, \n",
      "\n",
      "Mean::  0.120650799483 StdDev ::  0.0586694992117\n"
     ]
    }
   ],
   "source": [
    "if __name__ == main():\n",
    "    main()"
   ]
  }
 ],
 "metadata": {
  "kernelspec": {
   "display_name": "Python 3",
   "language": "python",
   "name": "python3"
  },
  "language_info": {
   "codemirror_mode": {
    "name": "ipython",
    "version": 3
   },
   "file_extension": ".py",
   "mimetype": "text/x-python",
   "name": "python",
   "nbconvert_exporter": "python",
   "pygments_lexer": "ipython3",
   "version": "3.6.1"
  }
 },
 "nbformat": 4,
 "nbformat_minor": 2
}
