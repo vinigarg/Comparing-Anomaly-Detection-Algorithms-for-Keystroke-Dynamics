{
 "cells": [
  {
   "cell_type": "code",
   "execution_count": 1,
   "metadata": {
    "collapsed": true
   },
   "outputs": [],
   "source": [
    "import csv,sys\n",
    "import pandas as pd\n",
    "import numpy as np\n",
    "from sklearn.svm import OneClassSVM\n",
    "from sklearn.metrics import roc_curve\n",
    "data=[]"
   ]
  },
  {
   "cell_type": "code",
   "execution_count": 6,
   "metadata": {
    "collapsed": false
   },
   "outputs": [],
   "source": [
    "def Calc_equal_err_rate(realUser_scores,fakeUser_scores):\n",
    "    labels = [0]*len(realUser_scores) + [1]*len(fakeUser_scores)\n",
    "    fpr, tpr, thresholds = roc_curve(labels, realUser_scores + fakeUser_scores)\n",
    "    # false alarm rate = fpr (false positive rate) \n",
    "    false_alarm_rates = fpr\n",
    "    \n",
    "    # hitrate = tpr (true positive rate)\n",
    "    miss_rate= 1 - tpr\n",
    "    all_dist = miss_rate - false_alarm_rates\n",
    "    \n",
    "    idx1 = np.argmin(all_dist[all_dist >=0 ])\n",
    "    idx2 = np.argmax(all_dist[all_dist < 0])\n",
    "    \n",
    "    x_ptr = [miss_rate[idx1], false_alarm_rates[idx1]]\n",
    "    y_ptr = [miss_rate[idx2], false_alarm_rates[idx2]]\n",
    "    m = ( x_ptr[0] -x_ptr[1] ) / ( y_ptr[1] - x_ptr[1] - y_ptr[0] + x_ptr[0] )\n",
    "   \n",
    "    equal_err_rate = x_ptr[0] + m * ( y_ptr[0] - x_ptr[0] )\n",
    "#     print (round(equal_err_rate,4))\n",
    "    \n",
    "    return equal_err_rate\n",
    "    \n",
    "    "
   ]
  },
  {
   "cell_type": "code",
   "execution_count": 7,
   "metadata": {
    "collapsed": false
   },
   "outputs": [],
   "source": [
    "def SVM(person):\n",
    "    realUser_scores = []                         # real user score\n",
    "    fakeUser_scores = []                         # imposter user score\n",
    "    \n",
    "    realUser_data = data.loc[data.subject == person, \"H.period\":\"H.Return\"]\n",
    "    fakeUser_data = data.loc[data.subject != person, :]\n",
    "    \n",
    "    real_train = np.array((realUser_data[:200]).values)\n",
    "    \n",
    "    real_test = np.array((realUser_data[200:]).values)\n",
    "    \n",
    "    fake_test = np.array((fakeUser_data.groupby(\"subject\").head(5).loc[:, \"H.period\":\"H.Return\"]).values)\n",
    "\n",
    "    clf = OneClassSVM(kernel='rbf',gamma=26)\n",
    "    clf.fit(real_train)\n",
    "    realUser_scores =list( -clf.decision_function(real_test))\n",
    "    fakeUser_scores = list(-clf.decision_function(fake_test))\n",
    "    \n",
    "    return Calc_equal_err_rate(realUser_scores,fakeUser_scores)\n"
   ]
  },
  {
   "cell_type": "code",
   "execution_count": 8,
   "metadata": {
    "collapsed": false
   },
   "outputs": [],
   "source": [
    "#     print (realUser_scores, fakeUser_scores)\n",
    "#     print(np.shape(realUser_data))\n",
    "#     print(np.shape(fakeUser_data))\n",
    "#     print(np.shape(real_train))\n",
    "#     print(np.shape(real_test))\n",
    "#     print(np.shape(fake_test))\n",
    "\n",
    "def main():\n",
    "    global data\n",
    "    data = pd.read_csv(\"./dataset/DSL-StrongPasswordData.csv\")\n",
    "    subjects = data[\"subject\"].unique()\n",
    "    header = [c for c in data]\n",
    "    equal_err_rate =[]\n",
    "    for person in subjects:\n",
    "        equal_err_rate.append(SVM(person))\n",
    "    \n",
    "    print (np.mean(equal_err_rate), np.std(equal_err_rate))"
   ]
  },
  {
   "cell_type": "code",
   "execution_count": 9,
   "metadata": {
    "collapsed": false
   },
   "outputs": [
    {
     "name": "stdout",
     "output_type": "stream",
     "text": [
      "0.120650799483 0.0586694992117\n"
     ]
    }
   ],
   "source": [
    "if __name__ == main():\n",
    "    main()"
   ]
  }
 ],
 "metadata": {
  "kernelspec": {
   "display_name": "Python 3",
   "language": "python",
   "name": "python3"
  },
  "language_info": {
   "codemirror_mode": {
    "name": "ipython",
    "version": 3
   },
   "file_extension": ".py",
   "mimetype": "text/x-python",
   "name": "python",
   "nbconvert_exporter": "python",
   "pygments_lexer": "ipython3",
   "version": "3.6.1"
  }
 },
 "nbformat": 4,
 "nbformat_minor": 2
}
