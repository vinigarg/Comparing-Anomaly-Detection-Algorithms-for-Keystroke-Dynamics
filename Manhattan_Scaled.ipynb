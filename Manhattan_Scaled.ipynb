{
 "cells": [
  {
   "cell_type": "code",
   "execution_count": 1,
   "metadata": {
    "collapsed": true
   },
   "outputs": [],
   "source": [
    "import csv,sys\n",
    "import pandas as pd\n",
    "import numpy as np\n",
    "from sklearn.svm import OneClassSVM\n",
    "from sklearn.metrics import roc_curve"
   ]
  },
  {
   "cell_type": "code",
   "execution_count": 2,
   "metadata": {
    "collapsed": true
   },
   "outputs": [],
   "source": [
    "def Calc_equal_err_rate(realUser_scores,fakeUser_scores):\n",
    "    labels = [0]*len(realUser_scores) + [1]*len(fakeUser_scores)\n",
    "    fpr, tpr, thresholds = roc_curve(labels, realUser_scores + fakeUser_scores)\n",
    "    # false alarm rate = fpr (false positive rate) \n",
    "    false_alarm_rates = fpr\n",
    "    \n",
    "    # hitrate = tpr (true positive rate)\n",
    "    miss_rate= 1 - tpr\n",
    "    all_dist = miss_rate - false_alarm_rates\n",
    "    \n",
    "    idx1 = np.argmin(all_dist[all_dist >=0 ])\n",
    "    idx2 = np.argmax(all_dist[all_dist < 0])\n",
    "    \n",
    "    x_ptr = [miss_rate[idx1], false_alarm_rates[idx1]]\n",
    "    y_ptr = [miss_rate[idx2], false_alarm_rates[idx2]]\n",
    "    m = ( x_ptr[0] -x_ptr[1] ) / ( y_ptr[1] - x_ptr[1] - y_ptr[0] + x_ptr[0] )\n",
    "   \n",
    "    equal_err_rate = x_ptr[0] + m * ( y_ptr[0] - x_ptr[0] )\n",
    "#     print (round(equal_err_rate,4))\n",
    "    \n",
    "    return equal_err_rate\n",
    "    "
   ]
  },
  {
   "cell_type": "code",
   "execution_count": 3,
   "metadata": {
    "collapsed": false
   },
   "outputs": [],
   "source": [
    "def Manhattan_Scaled(person):\n",
    "    realUser_scores = []                         # real user score\n",
    "    fakeUser_scores = []                         # imposter user score\n",
    "    \n",
    "    # Consider current person as real and rest as fake\n",
    "    realUser_data = data.loc[data.subject == person, \"H.period\":\"H.Return\"]\n",
    "    \n",
    "    fakeUser_data = data.loc[data.subject != person, :]\n",
    "    \n",
    "    # genuine user's first 200 time vectors for training\n",
    "    real_train = realUser_data[:200]\n",
    "    \n",
    "    # genuine user's rest 200 time vectors for test \n",
    "    # True set (200 records)\n",
    "    real_test = realUser_data[200:]\n",
    "    \n",
    "    # False set (250 records, 5 per fake, 50 fake in all)\n",
    "    fake_test = fakeUser_data.groupby(\"subject\").head(5).loc[:, \"H.period\":\"H.Return\"]\n",
    "\n",
    "#     training...\n",
    "    mean = real_train.mean().values\n",
    "    mad = real_train.mad().values    #mean absolute deviaition \n",
    "  \n",
    "    \n",
    "#     testing...\n",
    "    rows= real_test.shape[0]\n",
    "    for r in range(rows):\n",
    "        score =0 \n",
    "        for m in range(len(mean)):\n",
    "            score=score + abs(real_test.iloc[r].values[m] -mean[m] )/mad[m]\n",
    "        realUser_scores.append(score)\n",
    "\n",
    "    rows= fake_test.shape[0]\n",
    "    for r in range(rows):\n",
    "        score =0 \n",
    "        for m in range(len(mean)):\n",
    "            score=score + abs(fake_test.iloc[r].values[m] -mean[m])/mad[m]\n",
    "        fakeUser_scores.append(score)\n",
    "    return Calc_equal_err_rate(realUser_scores,fakeUser_scores)"
   ]
  },
  {
   "cell_type": "code",
   "execution_count": 4,
   "metadata": {
    "collapsed": true
   },
   "outputs": [],
   "source": [
    "def main():\n",
    "    global data\n",
    "    data = pd.read_csv(\"./dataset/DSL-StrongPasswordData.csv\")\n",
    "    subjects = data[\"subject\"].unique()    # 51 total\n",
    "    header = [c for c in data]\n",
    "    equal_err_rate =[]\n",
    "    for person in subjects:\n",
    "        equal_err_rate.append(Manhattan_Scaled(person))\n",
    "\n",
    "    print (np.mean(equal_err_rate), np.std(equal_err_rate))"
   ]
  },
  {
   "cell_type": "code",
   "execution_count": 5,
   "metadata": {
    "collapsed": false
   },
   "outputs": [
    {
     "name": "stdout",
     "output_type": "stream",
     "text": [
      "0.0945442390728 0.0683754355337\n"
     ]
    }
   ],
   "source": [
    "if __name__ == main():\n",
    "    main()"
   ]
  }
 ],
 "metadata": {
  "kernelspec": {
   "display_name": "Python 3",
   "language": "python",
   "name": "python3"
  },
  "language_info": {
   "codemirror_mode": {
    "name": "ipython",
    "version": 3
   },
   "file_extension": ".py",
   "mimetype": "text/x-python",
   "name": "python",
   "nbconvert_exporter": "python",
   "pygments_lexer": "ipython3",
   "version": "3.6.1"
  }
 },
 "nbformat": 4,
 "nbformat_minor": 2
}
