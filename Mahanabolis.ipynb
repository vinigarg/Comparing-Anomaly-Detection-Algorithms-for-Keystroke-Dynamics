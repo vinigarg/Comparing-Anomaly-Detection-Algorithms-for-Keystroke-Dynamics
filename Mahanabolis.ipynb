{
 "cells": [
  {
   "cell_type": "code",
   "execution_count": 1,
   "metadata": {
    "collapsed": true
   },
   "outputs": [],
   "source": [
    "import numpy as np\n",
    "import pandas as pd\n",
    "from sklearn.metrics import roc_curve"
   ]
  },
  {
   "cell_type": "code",
   "execution_count": 2,
   "metadata": {
    "collapsed": true
   },
   "outputs": [],
   "source": [
    "class MahalanobisDetector:\n",
    "\n",
    "    def evaluateEER(self, user_scores, imposter_scores):\n",
    "\n",
    "        # true label\n",
    "        labels = [0]*len(user_scores) + [1]*len(imposter_scores)\n",
    "\n",
    "        # fpr = ( array ) Increasing false positive rates such that element i is the false positive rate of predictions with score >= thresholds[i].\n",
    "        # tpr = ( array ) Increasing true positive rates such that element i is the true positive rate of predictions with score >= thresholds[i].\n",
    "        # thresholds = ( array ) Decreasing thresholds on the decision function used to compute fpr and tpr. \n",
    "        fpr, tpr, thresholds = roc_curve(labels, user_scores + imposter_scores)\n",
    "\n",
    "        # The hit rate is the frequency with which impostors are detected (i.e. tpr = 1 − miss rate)\n",
    "        miss_rates = 1 - tpr\n",
    "\n",
    "        # false alarm rates\n",
    "        false_alarm_rates = fpr\n",
    "\n",
    "        # distance between false and missed alarm rates \n",
    "        dists = miss_rates - false_alarm_rates\n",
    "\n",
    "        # index where min and max value in dists array\n",
    "        idx1 = np.argmin(dists[dists >= 0])\n",
    "        idx2 = np.argmax(dists[dists < 0])\n",
    "\n",
    "        # equal_error_rate calculation\n",
    "        x = [miss_rates[idx1], false_alarm_rates[idx1]]\n",
    "        y = [miss_rates[idx2], false_alarm_rates[idx2]]\n",
    "        a = ( x[0] - x[1] ) / ( y[1] - x[1] - y[0] + x[0] )\n",
    "        equal_error_rate = x[0] + a * ( y[0] - x[0] )\n",
    "\n",
    "        return equal_error_rate\n",
    "\n",
    "\n",
    "    def __init__(self, subjects):\n",
    "        self.user_scores = []\n",
    "        self.imposter_scores = []\n",
    "        self.mean_vector = []\n",
    "        self.subjects = subjects\n",
    "\n",
    "    def training(self):\n",
    "        self.mean_vector = self.train.mean().values\n",
    "        self.covinv = np.linalg.inv(np.cov(self.train.T))        \n",
    "\n",
    "    def testing(self):\n",
    "        for i in range(self.test_genuine.shape[0]):\n",
    "            diff = self.test_genuine.iloc[i].values - self.mean_vector\n",
    "            cur_score = np.dot(np.dot(diff.T, self.covinv), diff)\n",
    "            self.user_scores.append(cur_score)\n",
    "\n",
    "        for i in range(self.test_imposter.shape[0]):\n",
    "            diff = self.test_imposter.iloc[i].values - self.mean_vector\n",
    "            cur_score = np.dot(np.dot(diff.T, self.covinv), diff)\n",
    "            self.imposter_scores.append(cur_score)\n",
    "\n",
    "    def evaluate(self):\n",
    "        equal_error_rate = []\n",
    "\n",
    "        for subject in self.subjects:\n",
    "\n",
    "            self.user_scores = []\n",
    "            self.imposter_scores = []\n",
    "\n",
    "            # Consider current subject as genuine and rest as imposters\n",
    "            genuine_user_data = data.loc[data.subject == subject, \"H.period\":\"H.Return\"]\n",
    "\n",
    "            imposter_data = data.loc[data.subject != subject, :]\n",
    "\n",
    "            # genuine user's first 200 time vectors for training\n",
    "            self.train = genuine_user_data[:200]\n",
    "\n",
    "            # True set (200 records)\n",
    "            self.test_genuine = genuine_user_data[200:]\n",
    "\n",
    "            # False set (250 records, 5 per imposter, 50 imposters in all)\n",
    "            self.test_imposter = imposter_data.groupby(\"subject\").head(5).loc[:, \"H.period\":\"H.Return\"]\n",
    "\n",
    "            self.training()\n",
    "\n",
    "            self.testing()\n",
    "\n",
    "            equal_error_rate.append(self.evaluateEER(self.user_scores, self.imposter_scores))\n",
    "\n",
    "        return np.mean(equal_error_rate), np.std(equal_error_rate)        \n",
    "\n",
    "\n"
   ]
  },
  {
   "cell_type": "code",
   "execution_count": 3,
   "metadata": {
    "collapsed": true
   },
   "outputs": [],
   "source": [
    "data = pd.read_csv(\"DSL-StrongPasswordData.csv\")\n",
    "\n",
    "# 51 total\n",
    "subjects = data[\"subject\"].unique()\n"
   ]
  },
  {
   "cell_type": "code",
   "execution_count": 4,
   "metadata": {},
   "outputs": [
    {
     "name": "stdout",
     "output_type": "stream",
     "text": [
      "(0.19455556540207583, 0.13760901242141851)\n"
     ]
    }
   ],
   "source": [
    "det = MahalanobisDetector(subjects)\n",
    "print (det.evaluate())"
   ]
  }
 ],
 "metadata": {
  "kernelspec": {
   "display_name": "Python 3",
   "language": "python",
   "name": "python3"
  },
  "language_info": {
   "codemirror_mode": {
    "name": "ipython",
    "version": 3
   },
   "file_extension": ".py",
   "mimetype": "text/x-python",
   "name": "python",
   "nbconvert_exporter": "python",
   "pygments_lexer": "ipython3",
   "version": "3.6.1"
  }
 },
 "nbformat": 4,
 "nbformat_minor": 2
}
